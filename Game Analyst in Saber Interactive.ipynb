import pandas as pd
import numpy as np
data = pd.read_excel('Trainee Analyst Test DataSet.xlsx', ['FirstEnter', 'RetentionRate']) #считываем оба листа таблицы

#1. Построить график воронки туториала по шагам. Для построения можно использовать любой известный вам инструмент
        #Необходимо посчитать, сколько людей выполнило каждый из шагов и 
        #показать отношение количества людей, прошедших отдельные шаги туториала к количеству людей, стартовавших туториал.

#data['FirstEnter'].head()
pivot = data['FirstEnter'].pivot_table(index ='Max AchievedStep', values = 'PlayerUid', aggfunc='count')  #группируем игроков по шагам
total_begin = int(pivot.sum())  #считаем общее число стартовавших туториал
pivot['Total_Step'] = pivot['PlayerUid'][::-1].cumsum()[::-1]  # считаем сколько всего человек выполнило каждый этап
pivot['Rate'] = round(pivot['Total_Step']/total_begin,2)  #отношение количества людей, прошедших отдельные шаги туториала к количеству людей, стартовавших туториал

display(pivot)
